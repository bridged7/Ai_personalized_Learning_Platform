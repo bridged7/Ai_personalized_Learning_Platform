{
 "cells": [
  {
   "cell_type": "code",
   "execution_count": 1,
   "id": "5a496745-bfdb-49e1-a2d6-66321ade98af",
   "metadata": {},
   "outputs": [
    {
     "data": {
      "text/html": [
       "<div>\n",
       "<style scoped>\n",
       "    .dataframe tbody tr th:only-of-type {\n",
       "        vertical-align: middle;\n",
       "    }\n",
       "\n",
       "    .dataframe tbody tr th {\n",
       "        vertical-align: top;\n",
       "    }\n",
       "\n",
       "    .dataframe thead th {\n",
       "        text-align: right;\n",
       "    }\n",
       "</style>\n",
       "<table border=\"1\" class=\"dataframe\">\n",
       "  <thead>\n",
       "    <tr style=\"text-align: right;\">\n",
       "      <th></th>\n",
       "      <th>student_id</th>\n",
       "      <th>course_id</th>\n",
       "      <th>course_name</th>\n",
       "      <th>enrollment_status</th>\n",
       "      <th>rating</th>\n",
       "    </tr>\n",
       "  </thead>\n",
       "  <tbody>\n",
       "    <tr>\n",
       "      <th>0</th>\n",
       "      <td>s1</td>\n",
       "      <td>c4</td>\n",
       "      <td>Corporate Governance and Ethics</td>\n",
       "      <td>enrolled</td>\n",
       "      <td>NaN</td>\n",
       "    </tr>\n",
       "    <tr>\n",
       "      <th>1</th>\n",
       "      <td>s1</td>\n",
       "      <td>c1</td>\n",
       "      <td>Business Communication</td>\n",
       "      <td>completed</td>\n",
       "      <td>1.0</td>\n",
       "    </tr>\n",
       "    <tr>\n",
       "      <th>2</th>\n",
       "      <td>s2</td>\n",
       "      <td>c1</td>\n",
       "      <td>Business Communication</td>\n",
       "      <td>enrolled</td>\n",
       "      <td>NaN</td>\n",
       "    </tr>\n",
       "    <tr>\n",
       "      <th>3</th>\n",
       "      <td>s3</td>\n",
       "      <td>c1</td>\n",
       "      <td>Business Communication</td>\n",
       "      <td>completed</td>\n",
       "      <td>3.0</td>\n",
       "    </tr>\n",
       "    <tr>\n",
       "      <th>4</th>\n",
       "      <td>s4</td>\n",
       "      <td>c3</td>\n",
       "      <td>Organizational Behavior</td>\n",
       "      <td>enrolled</td>\n",
       "      <td>NaN</td>\n",
       "    </tr>\n",
       "  </tbody>\n",
       "</table>\n",
       "</div>"
      ],
      "text/plain": [
       "  student_id course_id                      course_name enrollment_status  \\\n",
       "0         s1        c4  Corporate Governance and Ethics          enrolled   \n",
       "1         s1        c1           Business Communication         completed   \n",
       "2         s2        c1           Business Communication          enrolled   \n",
       "3         s3        c1           Business Communication         completed   \n",
       "4         s4        c3          Organizational Behavior          enrolled   \n",
       "\n",
       "   rating  \n",
       "0     NaN  \n",
       "1     1.0  \n",
       "2     NaN  \n",
       "3     3.0  \n",
       "4     NaN  "
      ]
     },
     "execution_count": 1,
     "metadata": {},
     "output_type": "execute_result"
    }
   ],
   "source": [
    "import pandas as pd \n",
    "interactions_df = pd.read_csv('interactions.csv')\n",
    "metadata_df = pd.read_csv('metadata.csv')\n",
    "interactions_df.head()\n"
   ]
  },
  {
   "cell_type": "code",
   "execution_count": 2,
   "id": "31f6c678-5058-4474-9297-bea7e471e64d",
   "metadata": {},
   "outputs": [],
   "source": [
    "interactions_df.to_csv(\"C:/Users/mwende/Documents/flask_api/interactions.csv\", index=False)"
   ]
  },
  {
   "cell_type": "code",
   "execution_count": 3,
   "id": "14a38abe-4e7b-41ff-826d-fed10230545a",
   "metadata": {},
   "outputs": [
    {
     "data": {
      "text/html": [
       "<div>\n",
       "<style scoped>\n",
       "    .dataframe tbody tr th:only-of-type {\n",
       "        vertical-align: middle;\n",
       "    }\n",
       "\n",
       "    .dataframe tbody tr th {\n",
       "        vertical-align: top;\n",
       "    }\n",
       "\n",
       "    .dataframe thead th {\n",
       "        text-align: right;\n",
       "    }\n",
       "</style>\n",
       "<table border=\"1\" class=\"dataframe\">\n",
       "  <thead>\n",
       "    <tr style=\"text-align: right;\">\n",
       "      <th></th>\n",
       "      <th>course_id</th>\n",
       "      <th>course_name</th>\n",
       "      <th>description</th>\n",
       "    </tr>\n",
       "  </thead>\n",
       "  <tbody>\n",
       "    <tr>\n",
       "      <th>0</th>\n",
       "      <td>c1</td>\n",
       "      <td>Business Communication</td>\n",
       "      <td>This course explores business strategy formula...</td>\n",
       "    </tr>\n",
       "    <tr>\n",
       "      <th>1</th>\n",
       "      <td>c2</td>\n",
       "      <td>Strategic management</td>\n",
       "      <td>This course explores business strategy formula...</td>\n",
       "    </tr>\n",
       "    <tr>\n",
       "      <th>2</th>\n",
       "      <td>c3</td>\n",
       "      <td>Organizational Behavior</td>\n",
       "      <td>This course examines workplace dynamics, focus...</td>\n",
       "    </tr>\n",
       "    <tr>\n",
       "      <th>3</th>\n",
       "      <td>c4</td>\n",
       "      <td>Corporate Governance and Ethics</td>\n",
       "      <td>This course delves into ethical decision-makin...</td>\n",
       "    </tr>\n",
       "  </tbody>\n",
       "</table>\n",
       "</div>"
      ],
      "text/plain": [
       "  course_id                      course_name  \\\n",
       "0        c1           Business Communication   \n",
       "1        c2             Strategic management   \n",
       "2        c3          Organizational Behavior   \n",
       "3        c4  Corporate Governance and Ethics   \n",
       "\n",
       "                                         description  \n",
       "0  This course explores business strategy formula...  \n",
       "1  This course explores business strategy formula...  \n",
       "2  This course examines workplace dynamics, focus...  \n",
       "3  This course delves into ethical decision-makin...  "
      ]
     },
     "execution_count": 3,
     "metadata": {},
     "output_type": "execute_result"
    }
   ],
   "source": [
    "metadata_df.head()"
   ]
  },
  {
   "cell_type": "code",
   "execution_count": 4,
   "id": "fbea29d1-85ee-4a3e-9000-134eadb2ce78",
   "metadata": {},
   "outputs": [
    {
     "name": "stdout",
     "output_type": "stream",
     "text": [
      "<class 'pandas.core.frame.DataFrame'>\n",
      "RangeIndex: 1513 entries, 0 to 1512\n",
      "Data columns (total 5 columns):\n",
      " #   Column             Non-Null Count  Dtype  \n",
      "---  ------             --------------  -----  \n",
      " 0   student_id         1513 non-null   object \n",
      " 1   course_id          1513 non-null   object \n",
      " 2   course_name        1513 non-null   object \n",
      " 3   enrollment_status  1513 non-null   object \n",
      " 4   rating             762 non-null    float64\n",
      "dtypes: float64(1), object(4)\n",
      "memory usage: 59.2+ KB\n",
      "None\n",
      "<class 'pandas.core.frame.DataFrame'>\n",
      "RangeIndex: 4 entries, 0 to 3\n",
      "Data columns (total 3 columns):\n",
      " #   Column       Non-Null Count  Dtype \n",
      "---  ------       --------------  ----- \n",
      " 0   course_id    4 non-null      object\n",
      " 1   course_name  4 non-null      object\n",
      " 2   description  4 non-null      object\n",
      "dtypes: object(3)\n",
      "memory usage: 224.0+ bytes\n",
      "None\n"
     ]
    }
   ],
   "source": [
    "print(interactions_df.info())\n",
    "print(metadata_df.info())"
   ]
  },
  {
   "cell_type": "code",
   "execution_count": 5,
   "id": "caf7b8fb-a4ee-4158-8b49-6c34ddec2504",
   "metadata": {},
   "outputs": [
    {
     "name": "stdout",
     "output_type": "stream",
     "text": [
      "0\n",
      "<class 'pandas.core.frame.DataFrame'>\n",
      "Index: 762 entries, 1 to 1512\n",
      "Data columns (total 5 columns):\n",
      " #   Column             Non-Null Count  Dtype  \n",
      "---  ------             --------------  -----  \n",
      " 0   student_id         762 non-null    object \n",
      " 1   course_id          762 non-null    object \n",
      " 2   course_name        762 non-null    object \n",
      " 3   enrollment_status  762 non-null    object \n",
      " 4   rating             762 non-null    float64\n",
      "dtypes: float64(1), object(4)\n",
      "memory usage: 35.7+ KB\n",
      "None\n",
      "   student_id course_id                      course_name enrollment_status  \\\n",
      "1          s1        c1           Business Communication         completed   \n",
      "3          s3        c1           Business Communication         completed   \n",
      "5          s4        c4  Corporate Governance and Ethics         completed   \n",
      "9          s7        c1           Business Communication         completed   \n",
      "12         s9        c1           Business Communication         completed   \n",
      "\n",
      "    rating  \n",
      "1      1.0  \n",
      "3      3.0  \n",
      "5      2.0  \n",
      "9      2.0  \n",
      "12     2.0  \n"
     ]
    }
   ],
   "source": [
    "interactions_df = interactions_df.dropna(subset=['rating'])\n",
    "print(interactions_df.duplicated().sum())\n",
    "print(interactions_df.info())\n",
    "print(interactions_df.head())"
   ]
  },
  {
   "cell_type": "code",
   "execution_count": 6,
   "id": "fe24a7ef-329b-446d-9f6f-59fb3430d0b0",
   "metadata": {},
   "outputs": [
    {
     "name": "stdout",
     "output_type": "stream",
     "text": [
      "0\n"
     ]
    }
   ],
   "source": [
    "print(interactions_df['rating'].isna().sum()) "
   ]
  },
  {
   "cell_type": "code",
   "execution_count": 7,
   "id": "f31e5ccb-54d7-4c77-acee-d975265cf198",
   "metadata": {},
   "outputs": [
    {
     "name": "stdout",
     "output_type": "stream",
     "text": [
      "   student_id course_id  rating\n",
      "1          s1        c1     1.0\n",
      "3          s3        c1     3.0\n",
      "5          s4        c4     2.0\n",
      "9          s7        c1     2.0\n",
      "12         s9        c1     2.0\n",
      "13         s9        c4     3.0\n",
      "14        s10        c1     1.0\n",
      "15        s11        c2     5.0\n",
      "16        s11        c3     3.0\n",
      "17        s12        c3     4.0\n"
     ]
    }
   ],
   "source": [
    "print(interactions_df[['student_id', 'course_id', 'rating']].head(10))"
   ]
  },
  {
   "cell_type": "code",
   "execution_count": 8,
   "id": "86a73a26-a4ac-4e5f-8b7d-c91220a142fc",
   "metadata": {},
   "outputs": [
    {
     "data": {
      "image/png": "[encoded data removed]",
      "text/plain": [
       "<Figure size 800x600 with 1 Axes>"
      ]
     },
     "metadata": {},
     "output_type": "display_data"
    }
   ],
   "source": [
    "import matplotlib.pyplot as plt \n",
    "import seaborn as sns \n",
    "\n",
    "course_counts = interactions_df['course_id'].value_counts()\n",
    "plt.figure(figsize = (8,6))\n",
    "sns.barplot(x=course_counts.index,y=course_counts.values)\n",
    "plt.title('Number of students per Course')\n",
    "plt.xlabel('Course Id')\n",
    "plt.ylabel('Number of Enrollments')\n",
    "plt.show()"
   ]
  },
  {
   "cell_type": "code",
   "execution_count": 9,
   "id": "f4d0cfbd-3a0e-47e2-93a9-68525da7f717",
   "metadata": {},
   "outputs": [
    {
     "data": {
      "image/png": "[encoded data removed]",
      "text/plain": [
       "<Figure size 800x600 with 1 Axes>"
      ]
     },
     "metadata": {},
     "output_type": "display_data"
    }
   ],
   "source": [
    "plt.figure(figsize = (8,6))\n",
    "sns.histplot(interactions_df['rating'],bins = 5,kde = True)\n",
    "plt.title('Course Rating Distribution')\n",
    "plt.xlabel('Ratings')\n",
    "plt.ylabel('Frequency')\n",
    "plt.show()"
   ]
  },
  {
   "cell_type": "code",
   "execution_count": 10,
   "id": "12eafce5-9da2-418a-a486-d7dff1d6a95d",
   "metadata": {},
   "outputs": [
    {
     "name": "stdout",
     "output_type": "stream",
     "text": [
      "0\n",
      "course_id      object\n",
      "course_name    object\n",
      "description    object\n",
      "dtype: object\n"
     ]
    }
   ],
   "source": [
    "print(metadata_df.duplicated().sum())\n",
    "print(metadata_df.dtypes)"
   ]
  },
  {
   "cell_type": "code",
   "execution_count": 11,
   "id": "4ad0ef60-b23b-4035-8d9f-7fcbaa7539ee",
   "metadata": {},
   "outputs": [
    {
     "name": "stdout",
     "output_type": "stream",
     "text": [
      "(639, 4)\n"
     ]
    }
   ],
   "source": [
    "import numpy as np\n",
    "user_item_matrix = interactions_df.pivot(index='student_id',columns='course_id',values='rating')\n",
    "ratings_matrix = user_item_matrix.values \n",
    "\n",
    "print (ratings_matrix.shape)\n"
   ]
  },
  {
   "cell_type": "code",
   "execution_count": 12,
   "id": "2f2af053-718a-4991-a9fb-0baac4c08499",
   "metadata": {},
   "outputs": [
    {
     "name": "stdout",
     "output_type": "stream",
     "text": [
      "Tf_IDF Matrix Shape: (5, 98)\n",
      "Tf-IDF Representation;\n",
      "             active     adapt  advanced  analysis  analytical  assessment  \\\n",
      "course_id                                                                   \n",
      "c1         0.000000  0.000000  0.000000  0.000000    0.000000    0.000000   \n",
      "c2         0.000000  0.197642  0.000000  0.197642    0.197642    0.197642   \n",
      "c3         0.000000  0.000000  0.000000  0.000000    0.000000    0.000000   \n",
      "c4         0.000000  0.000000  0.000000  0.000000    0.000000    0.000000   \n",
      "c5         0.216295  0.000000  0.216295  0.000000    0.000000    0.000000   \n",
      "\n",
      "           behavior  business      case   changes  ...   success  \\\n",
      "course_id                                          ...             \n",
      "c1         0.000000  0.111200  0.000000  0.000000  ...  0.000000   \n",
      "c2         0.000000  0.222696  0.000000  0.197642  ...  0.000000   \n",
      "c3         0.201245  0.000000  0.000000  0.000000  ...  0.000000   \n",
      "c4         0.000000  0.104974  0.186329  0.000000  ...  0.186329   \n",
      "c5         0.000000  0.121857  0.000000  0.000000  ...  0.000000   \n",
      "\n",
      "           successfully  sustainable   tactics   teaches  teamwork    topics  \\\n",
      "course_id                                                                      \n",
      "c1             0.197378     0.000000  0.000000  0.000000  0.000000  0.000000   \n",
      "c2             0.000000     0.197642  0.000000  0.000000  0.000000  0.159456   \n",
      "c3             0.000000     0.000000  0.000000  0.000000  0.201245  0.000000   \n",
      "c4             0.000000     0.000000  0.000000  0.000000  0.000000  0.000000   \n",
      "c5             0.000000     0.000000  0.216295  0.216295  0.000000  0.174505   \n",
      "\n",
      "             verbal  workplace   written  \n",
      "course_id                                 \n",
      "c1         0.394757   0.132187  0.197378  \n",
      "c2         0.000000   0.000000  0.000000  \n",
      "c3         0.000000   0.269552  0.000000  \n",
      "c4         0.000000   0.000000  0.000000  \n",
      "c5         0.000000   0.144855  0.000000  \n",
      "\n",
      "[5 rows x 98 columns]\n"
     ]
    }
   ],
   "source": [
    "from sklearn.feature_extraction.text import TfidfVectorizer\n",
    "\n",
    "data = {\n",
    "    'course_id': ['c1', 'c2', 'c3', 'c4','c5'],\n",
    "    'course_name': [\n",
    "        'Business Communication',\n",
    "        'Strategic Management',\n",
    "        'Organizational Behaviour',\n",
    "        'Corporate Governance and Ethics',\n",
    "        'Professional Communication & Negotiation'\n",
    "\n",
    "    ],\n",
    "    'description1': [\n",
    "        'this course covers the fundamentals of effective workplace communication including written verbal and non-verbal skills students will learn how to craft persuasive business messages deliver impactful presentations and negotiate successfully the course also explores professional email etiquette and strategies for conflict resolution in corporate settings',\n",
    "        'this course explores business strategy formulation and implementation helping students develop analytical and decision-making skills topics include competitive analysis corporate planning leadership strategies and risk assessment students will learn how to create sustainable business models and adapt to market changes',\n",
    "        'this course examines workplace dynamics focusing on motivation teamwork and leadership students will explore how organizational culture employee engagement and psychological factors influence productivity the course also covers leadership styles group behavior and methods for improving workplace performance',\n",
    "        'this course delves into ethical decisionmaking in corporate settings students will learn about governance structures corporate social responsibility csr compliance regulations and ethical leadership the course covers case studies on business ethics and the impact of corporate governance on organizational success',\n",
    "        'this course teaches students advanced communication skills for business settings topics include crafting professional emails persuasive presentations and active listening the course also covers negotiation tactics workplace etiquette and conflict resolution strategies to enhance professional interactions'\n",
    "    ]\n",
    "}\n",
    "metadata1_df = pd.DataFrame(data)\n",
    "\n",
    "tfidf_vectorizer = TfidfVectorizer(stop_words='english')\n",
    "tfidf_matrix = tfidf_vectorizer.fit_transform(metadata1_df['description1'])\n",
    "tfidf_df = pd.DataFrame(tfidf_matrix.toarray(), columns=tfidf_vectorizer.get_feature_names_out(), index=metadata1_df['course_id'])\n",
    "\n",
    "print('Tf_IDF Matrix Shape:', tfidf_matrix.shape)\n",
    "print('Tf-IDF Representation;')\n",
    "print(tfidf_df.head())\n",
    "                                            \n",
    "\n",
    "                                  \n",
    "\n"
   ]
  },
  {
   "cell_type": "code",
   "execution_count": 13,
   "id": "c62de94f-a00a-4743-aa6e-18de6cc52007",
   "metadata": {},
   "outputs": [
    {
     "name": "stdout",
     "output_type": "stream",
     "text": [
      "Cosine Similarity Matrix:\n",
      "course_id        c1        c2        c3        c4        c5\n",
      "course_id                                                  \n",
      "c1         1.000000  0.155573  0.093334  0.147575  0.374471\n",
      "c2         0.155573  1.000000  0.071803  0.139410  0.159961\n",
      "c3         0.093334  0.071803  1.000000  0.112517  0.102279\n",
      "c4         0.147575  0.139410  0.112517  1.000000  0.089414\n",
      "c5         0.374471  0.159961  0.102279  0.089414  1.000000\n"
     ]
    }
   ],
   "source": [
    "from sklearn.metrics.pairwise import cosine_similarity\n",
    "cosine_sim = cosine_similarity(tfidf_matrix, tfidf_matrix)\n",
    "cosine_sim_df = pd.DataFrame(cosine_sim, index=metadata1_df['course_id'], columns=metadata1_df['course_id'])\n",
    "\n",
    "print('Cosine Similarity Matrix:')\n",
    "print(cosine_sim_df)\n"
   ]
  },
  {
   "cell_type": "code",
   "execution_count": 14,
   "id": "fd538662-6086-4010-b269-6f5022c37d74",
   "metadata": {},
   "outputs": [
    {
     "name": "stdout",
     "output_type": "stream",
     "text": [
      "Evaluating RMSE, MAE of algorithm SVD on 5 split(s).\n",
      "\n",
      "                  Fold 1  Fold 2  Fold 3  Fold 4  Fold 5  Mean    Std     \n",
      "RMSE (testset)    1.4474  1.5149  1.3439  1.4740  1.4161  1.4393  0.0576  \n",
      "MAE (testset)     1.2624  1.3169  1.1217  1.2899  1.2099  1.2402  0.0690  \n",
      "Fit time          0.01    0.01    0.01    0.01    0.01    0.01    0.00    \n",
      "Test time         0.00    0.00    0.00    0.00    0.00    0.00    0.00    \n"
     ]
    },
    {
     "data": {
      "image/png": "[encoded data removed]",
      "text/plain": [
       "<Figure size 1200x600 with 2 Axes>"
      ]
     },
     "metadata": {},
     "output_type": "display_data"
    },
    {
     "name": "stdout",
     "output_type": "stream",
     "text": [
      "RMSE: 1.5057\n",
      "MAE:  1.3022\n"
     ]
    },
    {
     "data": {
      "text/plain": [
       "[(291, 'c4', 3.0),\n",
       " (426, 'c3', 3.0),\n",
       " (629, 'c1', 1.0),\n",
       " (591, 'c3', 4.0),\n",
       " (576, 'c3', 4.0)]"
      ]
     },
     "execution_count": 14,
     "metadata": {},
     "output_type": "execute_result"
    }
   ],
   "source": [
    "import pandas as pd\n",
    "import numpy as np\n",
    "import re\n",
    "from surprise import SVD, Dataset, Reader\n",
    "from surprise.model_selection import train_test_split, cross_validate\n",
    "from sklearn.feature_extraction.text import TfidfVectorizer\n",
    "from sklearn.metrics.pairwise import cosine_similarity\n",
    "from surprise import accuracy\n",
    "import matplotlib.pyplot as plt\n",
    "\n",
    "unique_students = interactions_df['student_id'].unique()\n",
    "student_id_mapping = {id_: i for i, id_ in enumerate(unique_students)}\n",
    "interactions_df['student_id'] = interactions_df['student_id'].map(student_id_mapping)\n",
    "\n",
    "user_item_matrix = interactions_df.pivot(index='student_id', columns='course_id', values='rating')\n",
    "\n",
    "reader = Reader(rating_scale=(1, 5))\n",
    "data = Dataset.load_from_df(interactions_df[['student_id', 'course_id', 'rating']], reader)\n",
    "\n",
    "crossval_results = cross_validate(SVD(n_factors=60, n_epochs=25, lr_all=0.007, reg_all=0.1), \n",
    "                                  data, measures=['RMSE', 'MAE'], cv=5, verbose=True)\n",
    "\n",
    "crossval_results\n",
    "\n",
    "plt.figure(figsize=(12, 6))\n",
    "plt.subplot(1, 2, 1)\n",
    "plt.plot(crossval_results['test_rmse'], marker='o', label='RMSE')\n",
    "plt.title('Cross-Validation RMSE')\n",
    "plt.xlabel('Fold')\n",
    "plt.ylabel('RMSE')\n",
    "\n",
    "plt.subplot(1, 2, 2)\n",
    "plt.plot(crossval_results['test_mae'], marker='o', label='MAE')\n",
    "plt.title('Cross-Validation MAE')\n",
    "plt.xlabel('Fold')\n",
    "plt.ylabel('MAE')\n",
    "\n",
    "plt.tight_layout()\n",
    "plt.show()\n",
    "\n",
    "trainset, testset = train_test_split(data, test_size=0.2, random_state=42)\n",
    "\n",
    "svd_model = SVD(n_factors=60, n_epochs=25, lr_all=0.007, reg_all=0.01)\n",
    "svd_model.fit(trainset)\n",
    "\n",
    "predictions = svd_model.test(testset)\n",
    "\n",
    "rmse = accuracy.rmse(predictions)\n",
    "mae = accuracy.mae(predictions)\n",
    "\n",
    "f'RMSE on test set: {rmse}'\n",
    "f'MAE on test set: {mae}'\n",
    "\n",
    "testset[:5]\n",
    "\n",
    " "
   ]
  },
  {
   "cell_type": "code",
   "execution_count": 20,
   "id": "25780b9d-4cc5-4c3a-846e-759de8ab861b",
   "metadata": {},
   "outputs": [
    {
     "name": "stdout",
     "output_type": "stream",
     "text": [
      "Recommended courses: ['c5', 'c2', 'c4']\n"
     ]
    }
   ],
   "source": [
    "course_popularity = interactions_df['course_id'].value_counts().index.tolist()\n",
    "\n",
    "data = {\n",
    "    'course_id': ['c1', 'c2', 'c3', 'c4','c5'],\n",
    "    'course_name': [\n",
    "        'Business Communication',\n",
    "        'Strategic Management',\n",
    "        'Organizational Behaviour',\n",
    "        'Corporate Governance and Ethics',\n",
    "        'Professional Communication & Negotiation'\n",
    "    ],\n",
    "    'description1': [\n",
    "        'this course covers the fundamentals of effective workplace communication including written verbal and non-verbal skills students will learn how to craft persuasive business messages deliver impactful presentations and negotiate successfully the course also explores professional email etiquette and strategies for conflict resolution in corporate settings',\n",
    "        'this course explores business strategy formulation and implementation helping students develop analytical and decision-making skills topics include competitive analysis corporate planning leadership strategies and risk assessment students will learn how to create sustainable business models and adapt to market changes',\n",
    "        'this course examines workplace dynamics focusing on motivation teamwork and leadership students will explore how organizational culture employee engagement and psychological factors influence productivity the course also covers leadership styles group behavior and methods for improving workplace performance',\n",
    "        'this course delves into ethical decisionmaking in corporate settings students will learn about governance structures corporate social responsibility csr compliance regulations and ethical leadership the course covers case studies on business ethics and the impact of corporate governance on organizational success',\n",
    "        'this course teaches students advanced communication skills for business settings topics include crafting professional emails persuasive presentations and active listening the course also covers negotiation tactics workplace etiquette and conflict resolution strategies to enhance professional interactions'\n",
    "    ]\n",
    "}\n",
    "\n",
    "metadata1_df = pd.DataFrame(data)\n",
    "\n",
    "tfidf_vectorizer = TfidfVectorizer(stop_words='english')\n",
    "tfidf_matrix = tfidf_vectorizer.fit_transform(metadata1_df['description1'])\n",
    "cosine_sim = cosine_similarity(tfidf_matrix, tfidf_matrix)\n",
    "cosine_sim_df = pd.DataFrame(cosine_sim, index=metadata1_df['course_id'], columns=metadata1_df['course_id'])\n",
    "\n",
    "def recommend_top_course(course_id, cosine_sim=cosine_sim_df, threshold=0.1):\n",
    "    if course_id not in cosine_sim.index:\n",
    "        return None\n",
    "    sim_scores = cosine_sim[course_id].sort_values(ascending=False)\n",
    "    sim_scores = sim_scores.drop(course_id)\n",
    "    filtered_scores = sim_scores[sim_scores > threshold]\n",
    "    return filtered_scores.idxmax() if not filtered_scores.empty else None\n",
    "\n",
    "def hybrid_recommend(student_id, model, user_matrix, n=3, weight_cf=0.4, weight_cb=0.6):\n",
    "    student_history = interactions_df[interactions_df['student_id'] == student_id]\n",
    "    recommendations = []\n",
    "    \n",
    "    \n",
    "    if not student_history.empty:\n",
    "        taken_courses = set(student_history['course_id'])\n",
    "        other_courses = set(user_item_matrix.columns)\n",
    "        unseen_courses = other_courses - taken_courses\n",
    "        cf_recommendations = []\n",
    "        \n",
    "        for course_id in unseen_courses:\n",
    "            est_rating = model.predict(student_id, course_id).est\n",
    "            cf_recommendations.append((course_id, est_rating))\n",
    "        \n",
    "        if cf_recommendations:\n",
    "            cf_recommendations.sort(key=lambda x: x[1], reverse=True)\n",
    "            cf_recommendations = [course_id for course_id, _ in cf_recommendations[:n]]\n",
    "            recommendations.extend([(course, weight_cf) for course in cf_recommendations])\n",
    "\n",
    "    \n",
    "    if not student_history.empty:\n",
    "        last_course = student_history.iloc[-1]['course_id']\n",
    "        content_recommendation = recommend_top_course(last_course)\n",
    "        if content_recommendation and content_recommendation not in taken_courses:\n",
    "           recommendations.append((content_recommendation, weight_cb))\n",
    "\n",
    "    \n",
    "    if not recommendations:\n",
    "        return course_popularity[:n]\n",
    "\n",
    "    \n",
    "    recommendations.sort(key=lambda x: x[1], reverse=True)\n",
    "    final_recommendations = []\n",
    "    added = set()\n",
    "    for course, _ in recommendations:\n",
    "        if course not in added:\n",
    "            final_recommendations.append(course)\n",
    "            added.add(course)\n",
    "        if len(final_recommendations) == n:\n",
    "            break\n",
    "\n",
    "    return final_recommendations\n",
    "student_id = 's1'  \n",
    "\n",
    "mapped_student_id = student_id_mapping.get(student_id)\n",
    "\n",
    "if mapped_student_id is None:\n",
    "    recommended_courses = course_popularity[:3]  \n",
    "else:\n",
    "    recommended_courses = hybrid_recommend(mapped_student_id, svd_model, user_item_matrix)\n",
    "\n",
    "print(f\"Recommended courses: {recommended_courses}\")\n"
   ]
  },
  {
   "cell_type": "code",
   "execution_count": 21,
   "id": "eba87b78-2cc8-42f9-a914-a576f42e9081",
   "metadata": {},
   "outputs": [
    {
     "name": "stdout",
     "output_type": "stream",
     "text": [
      "recommendation_model.pkl\n"
     ]
    }
   ],
   "source": [
    "import joblib\n",
    "\n",
    "joblib.dump(svd_model, \"recommendation_model.pkl\")\n",
    "\n",
    "print(\"recommendation_model.pkl\")\n"
   ]
  },
  {
   "cell_type": "code",
   "execution_count": 22,
   "id": "684db6da-02f0-4782-9373-67e25e9721cb",
   "metadata": {},
   "outputs": [
    {
     "data": {
      "text/plain": [
       "'C:/Users/mwende/Documents/flask_api/recommendation_model.pkl'"
      ]
     },
     "execution_count": 22,
     "metadata": {},
     "output_type": "execute_result"
    }
   ],
   "source": [
    "import shutil\n",
    "shutil.move(\"recommendation_model.pkl\", \"C:/Users/mwende/Documents/flask_api/recommendation_model.pkl\")\n"
   ]
  },
  {
   "cell_type": "code",
   "execution_count": 23,
   "id": "7bd8ae25-e8dc-4c1c-8e55-a669d640b6ba",
   "metadata": {},
   "outputs": [],
   "source": [
    "model2 = joblib.load(\"C:/Users/mwende/Documents/flask_api/recommendation_model.pkl\")"
   ]
  },
  {
   "cell_type": "code",
   "execution_count": null,
   "id": "0f994d89-1cc2-4904-82ea-701196d0441a",
   "metadata": {},
   "outputs": [],
   "source": []
  }
 ],
 "metadata": {
  "kernelspec": {
   "display_name": "Python 3 (ipykernel)",
   "language": "python",
   "name": "python3"
  },
  "language_info": {
   "codemirror_mode": {
    "name": "ipython",
    "version": 3
   },
   "file_extension": ".py",
   "mimetype": "text/x-python",
   "name": "python",
   "nbconvert_exporter": "python",
   "pygments_lexer": "ipython3",
   "version": "3.10.11"
  }
 },
 "nbformat": 4,
 "nbformat_minor": 5
}
